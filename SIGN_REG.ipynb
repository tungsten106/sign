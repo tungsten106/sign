{
 "cells": [
  {
   "cell_type": "code",
   "execution_count": 1,
   "metadata": {},
   "outputs": [],
   "source": [
    "import torchvision\n",
    "import sys,os\n",
    "sys.path.append(os.pardir)\n",
    "import glob as glob\n",
    "import numpy as np\n",
    "import re"
   ]
  },
  {
   "cell_type": "code",
   "execution_count": 2,
   "metadata": {},
   "outputs": [],
   "source": [
    "import matplotlib.pyplot as plt\n",
    "%matplotlib inline"
   ]
  },
  {
   "cell_type": "markdown",
   "metadata": {},
   "source": [
    "### convert all data into plots\n",
    "\n",
    "- a function to convert txt files to arrays with numbers"
   ]
  },
  {
   "cell_type": "code",
   "execution_count": 3,
   "metadata": {},
   "outputs": [],
   "source": [
    "def remove_last_line(l=[\"\"]):\n",
    "    while l[-1]==\"\":\n",
    "        l.remove(l[-1])\n",
    "        \n",
    "    return l"
   ]
  },
  {
   "cell_type": "code",
   "execution_count": 4,
   "metadata": {},
   "outputs": [],
   "source": [
    "def txt_to_array(xn=\"\"):\n",
    "    x1=open(xn,\"rb\")\n",
    "    lx = x1.read().splitlines()\n",
    "    str_lx=[x.decode('utf-8-sig') for x in lx]\n",
    "    str_lx=remove_last_line(str_lx)\n",
    "    lx_=np.float_(str_lx)\n",
    "    return(lx_)"
   ]
  },
  {
   "cell_type": "code",
   "execution_count": 7,
   "metadata": {},
   "outputs": [
    {
     "name": "stdout",
     "output_type": "stream",
     "text": [
      "eight_pack done!\n",
      "five_pack done!\n",
      "four_pack done!\n",
      "nine_pack done!\n",
      "one_pack done!\n",
      "seven_pack done!\n",
      "six_pack done!\n",
      "ten_pack done!\n",
      "three_pack done!\n",
      "two_pack done!\n"
     ]
    },
    {
     "data": {
      "text/plain": [
       "<Figure size 432x288 with 0 Axes>"
      ]
     },
     "metadata": {},
     "output_type": "display_data"
    }
   ],
   "source": [
    "path=\"C:\\\\Users\\\\yexue\\\\Gesture-Recognition-based-on-IMU\\\\data\\\\rawdata_0\"\n",
    "fig_path=\"C:\\\\Users\\\\yexue\\\\Gesture-Recognition-based-on-IMU\\\\data\\\\figs_0\\\\\"\n",
    "\n",
    "if not os.path.isdir(fig_path):\n",
    "    os.mkdir(fig_path)\n",
    "    fig_path=os.path.join(fig_path,\"train\")\n",
    "    os.mkdir(fig_path)\n",
    "\n",
    "signList=os.listdir(path)\n",
    "\n",
    "for sign in signList:\n",
    "    sp=os.path.join(fig_path,sign)\n",
    "    if not os.path.isdir(sp):\n",
    "        os.mkdir(sp) # make directory for each sign to save plots\n",
    "    sign_path=os.path.join(path,sign)\n",
    "    \n",
    "    packs=os.listdir(sign_path)\n",
    "    for pack in packs:\n",
    "        pack_path=os.path.join(sign_path,pack)\n",
    "        file_names=glob.glob(os.path.join(pack_path,\"*.txt\"))\n",
    "        for i in range(6):\n",
    "            xn=file_names[2*i]\n",
    "            yn=file_names[2*i+1]\n",
    "\n",
    "            lx_=txt_to_array(xn)\n",
    "            ly_=txt_to_array(yn)\n",
    "\n",
    "            if len(lx_)==len(ly_):\n",
    "                plt.plot(lx_,ly_)\n",
    "        #plt.savefig(os.path.join(fig_path,sign,str(pack))+\".jpg\")\n",
    "        lis=re.findall(r'[0-9]+|[a-z]+',pack)\n",
    "        if len(lis)==1:\n",
    "            lis.append(\"1\")\n",
    "        fig=\".\".join(lis)\n",
    "        plt.savefig(os.path.join(fig_path,sign,fig)+\".jpg\")\n",
    "        plt.clf() # clear matplotlib space\n",
    "        #print(pack)\n",
    "    print(str(sign)+\" done!\")\n",
    "\n"
   ]
  },
  {
   "cell_type": "markdown",
   "metadata": {},
   "source": [
    "### using pytorch to analyze the plots"
   ]
  },
  {
   "cell_type": "code",
   "execution_count": null,
   "metadata": {},
   "outputs": [],
   "source": []
  }
 ],
 "metadata": {
  "kernelspec": {
   "display_name": "Python 3",
   "language": "python",
   "name": "python3"
  },
  "language_info": {
   "codemirror_mode": {
    "name": "ipython",
    "version": 3
   },
   "file_extension": ".py",
   "mimetype": "text/x-python",
   "name": "python",
   "nbconvert_exporter": "python",
   "pygments_lexer": "ipython3",
   "version": "3.7.4"
  }
 },
 "nbformat": 4,
 "nbformat_minor": 2
}
