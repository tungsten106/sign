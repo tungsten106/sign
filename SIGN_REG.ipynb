{
 "cells": [
  {
   "cell_type": "markdown",
   "metadata": {},
   "source": [
    "## Introduction\n",
    "\n",
    "The aim of this code is to develop a model recognizing signs from one to ten, with a simple CNN graphic training model. Our final form of data are plots with 6 lines, representing movements of five fingers and the palm from fist to the sign."
   ]
  },
  {
   "cell_type": "code",
   "execution_count": 4,
   "metadata": {},
   "outputs": [],
   "source": [
    "import torchvision\n",
    "import sys,os\n",
    "sys.path.append(os.pardir)\n",
    "import glob as glob\n",
    "import numpy as np\n",
    "import re"
   ]
  },
  {
   "cell_type": "code",
   "execution_count": 5,
   "metadata": {},
   "outputs": [],
   "source": [
    "import matplotlib.pyplot as plt\n",
    "%matplotlib inline"
   ]
  },
  {
   "cell_type": "markdown",
   "metadata": {},
   "source": [
    "### convert all data into plots\n",
    "\n",
    "Our initial data are text files with numbers only. A final graph of the sign process are made from 12 text files that two of them generates the x-value and y-value of one line.\n",
    "\n",
    "Thus we need:\n",
    "\n",
    "- a function to delete all empty rows at the last of text files\n",
    "\n",
    "- a function to convert numbers in the text file to a numpy array"
   ]
  },
  {
   "cell_type": "code",
   "execution_count": 6,
   "metadata": {},
   "outputs": [],
   "source": [
    "def remove_last_line(l=[\"\"]):\n",
    "    while l[-1]==\"\":\n",
    "        l.remove(l[-1])\n",
    "        \n",
    "    return l"
   ]
  },
  {
   "cell_type": "code",
   "execution_count": 7,
   "metadata": {},
   "outputs": [],
   "source": [
    "def txt_to_array(xn=\"\"):\n",
    "    x1=open(xn,\"rb\")\n",
    "    lx = x1.read().splitlines()\n",
    "    str_lx=[x.decode('utf-8-sig') for x in lx]\n",
    "    str_lx=remove_last_line(str_lx)\n",
    "    lx_=np.float_(str_lx)\n",
    "    return(lx_)"
   ]
  },
  {
   "cell_type": "markdown",
   "metadata": {},
   "source": [
    "Each 12 files representing one movement are saved in the same directory, and then in the directory with \"sign_pack\" which sign is what the data standing for. \n",
    "\n",
    "Then the process to convert 12 texts in one folder into a simgle graph is simple. All we need to do is to iterate each folder under one directory until we finished plotting all data for all sign."
   ]
  },
  {
   "cell_type": "code",
   "execution_count": 8,
   "metadata": {},
   "outputs": [
    {
     "name": "stdout",
     "output_type": "stream",
     "text": [
      "eight_pack done!\n",
      "five_pack done!\n",
      "four_pack done!\n",
      "nine_pack done!\n",
      "one_pack done!\n",
      "seven_pack done!\n",
      "six_pack done!\n",
      "ten_pack done!\n",
      "three_pack done!\n",
      "two_pack done!\n"
     ]
    },
    {
     "data": {
      "text/plain": [
       "<Figure size 432x288 with 0 Axes>"
      ]
     },
     "metadata": {},
     "output_type": "display_data"
    }
   ],
   "source": [
    "path=\"C:\\\\Users\\\\yexue\\\\Gesture-Recognition-based-on-IMU\\\\data\\\\rawdata_0\"\n",
    "fig_path=\"C:\\\\Users\\\\yexue\\\\Gesture-Recognition-based-on-IMU\\\\data\\\\figs_0\\\\\"\n",
    "\n",
    "if not os.path.isdir(fig_path):\n",
    "    os.mkdir(fig_path)\n",
    "    fig_path=os.path.join(fig_path,\"train\")\n",
    "    os.mkdir(fig_path)\n",
    "\n",
    "signList=os.listdir(path)\n",
    "\n",
    "for sign in signList:\n",
    "    sp=os.path.join(fig_path,sign)\n",
    "    if not os.path.isdir(sp):\n",
    "        os.mkdir(sp) # make directory for each sign to save plots\n",
    "    sign_path=os.path.join(path,sign)\n",
    "    \n",
    "    packs=os.listdir(sign_path)\n",
    "    for pack in packs:\n",
    "        pack_path=os.path.join(sign_path,pack)\n",
    "        file_names=glob.glob(os.path.join(pack_path,\"*.txt\"))\n",
    "        for i in range(6):\n",
    "            xn=file_names[2*i]\n",
    "            yn=file_names[2*i+1]\n",
    "\n",
    "            lx_=txt_to_array(xn)\n",
    "            ly_=txt_to_array(yn)\n",
    "\n",
    "            if len(lx_)==len(ly_):\n",
    "                plt.plot(lx_,ly_)\n",
    "        #plt.savefig(os.path.join(fig_path,sign,str(pack))+\".jpg\")\n",
    "        lis=re.findall(r'[0-9]+|[a-z]+',pack)\n",
    "        if len(lis)==1:\n",
    "            lis.append(\"1\")\n",
    "        fig=\".\".join(lis)\n",
    "        plt.savefig(os.path.join(fig_path,sign,fig)+\".jpg\")\n",
    "        plt.clf() # clear matplotlib space\n",
    "        #print(pack)\n",
    "    print(str(sign)+\" done!\")\n",
    "\n"
   ]
  },
  {
   "cell_type": "markdown",
   "metadata": {},
   "source": [
    "### using pytorch to analyze the plots\n",
    "\n",
    "We have generated the plots of sign movement. In order to make and train the model, this step is to devide the data into \"train\" and \"valid\" parts. Since our data size is quite small (about 22 plots for each sign), train size:valid size is approximately 2:1, which is not a usual ratio for such training.\n",
    "\n",
    "First we import all packages."
   ]
  },
  {
   "cell_type": "code",
   "execution_count": 11,
   "metadata": {},
   "outputs": [],
   "source": [
    "#pytorch\n",
    "\n",
    "import glob as glob\n",
    "import os\n",
    "import numpy as np\n",
    "import matplotlib.pyplot as plt\n",
    "import shutil\n",
    "from torchvision import transforms\n",
    "from torchvision import models\n",
    "import torch\n",
    "from torch.autograd import Variable\n",
    "import torch.nn as nn\n",
    "import torch.nn.functional as F\n",
    "from torch.optim import lr_scheduler\n",
    "from torch import optim\n",
    "from torchvision.datasets import ImageFolder\n",
    "from torchvision.utils import make_grid\n",
    "from torch.utils.data import Dataset,DataLoader\n",
    "import time\n",
    "%matplotlib inline\n",
    "\n",
    "import math"
   ]
  },
  {
   "cell_type": "markdown",
   "metadata": {},
   "source": [
    "To split the data into train data and valid data, we shuffle first and then take the first one third of all."
   ]
  },
  {
   "cell_type": "code",
   "execution_count": 19,
   "metadata": {},
   "outputs": [],
   "source": [
    "path = \"C:\\\\Users\\\\yexue\\\\Gesture-Recognition-based-on-IMU\\\\data\\\\figs_0\\\\\"\n",
    "train_path=os.path.join(path,\"train\")\n",
    "packs=os.listdir(train_path)\n",
    "os.mkdir(os.path.join(path,'valid'))"
   ]
  },
  {
   "cell_type": "code",
   "execution_count": 22,
   "metadata": {},
   "outputs": [],
   "source": [
    "for pack in packs:\n",
    "    #print(pack)\n",
    "    files=glob.glob(os.path.join(train_path,pack,\"*.jpg\"))\n",
    "    #print(os.path.join(train_path,pack,\"*.jpg\"))\n",
    "    num = len(files)\n",
    "    valid_size = math.floor(num/3)\n",
    "    shuffle = np.random.permutation(num)\n",
    "    #print(shuffle)\n",
    "    \n",
    "    valid_path=os.path.join(path,'valid')\n",
    "    if not os.path.isdir(valid_path):\n",
    "        os.mkdir(valid_path)\n",
    "    os.mkdir(os.path.join(valid_path,pack))\n",
    "    \n",
    "    for i in shuffle[0:valid_size]:\n",
    "        folder = files[i].split('\\\\')[-1].split('.')[0]\n",
    "        image = files[i].split('\\\\')[-1]\n",
    "        os.rename(files[i],os.path.join(path,'valid',folder+\"_pack\",image))\n",
    "    "
   ]
  },
  {
   "cell_type": "markdown",
   "metadata": {},
   "source": [
    "Model construction and traning part. (Refer from an example to classify dogs and cats.)"
   ]
  },
  {
   "cell_type": "code",
   "execution_count": 32,
   "metadata": {},
   "outputs": [],
   "source": [
    "simple_transform = transforms.Compose([transforms.Resize((224,224))\n",
    "                                       ,transforms.ToTensor()\n",
    "                                       ,transforms.Normalize([0.485, 0.456, 0.406], [0.229, 0.224, 0.225])])\n",
    "train = ImageFolder(train_path,simple_transform)\n",
    "valid = ImageFolder(valid_path,simple_transform)"
   ]
  },
  {
   "cell_type": "code",
   "execution_count": 33,
   "metadata": {},
   "outputs": [],
   "source": [
    "train_data_loader = torch.utils.data.DataLoader(train,batch_size=5,shuffle=True)\n",
    "valid_data_loader = torch.utils.data.DataLoader(valid,batch_size=5,shuffle=True)"
   ]
  },
  {
   "cell_type": "code",
   "execution_count": 34,
   "metadata": {},
   "outputs": [],
   "source": [
    "class Net(nn.Module):\n",
    "    def __init__(self):\n",
    "        super().__init__()\n",
    "        self.conv1 = nn.Conv2d(3, 10, kernel_size=5)\n",
    "        self.conv2 = nn.Conv2d(10, 20, kernel_size=5)\n",
    "        self.conv2_drop = nn.Dropout2d()\n",
    "        self.fc1 = nn.Linear(56180, 500)\n",
    "        self.fc2 = nn.Linear(500,50)\n",
    "        self.fc3 = nn.Linear(50, 10)\n",
    "\n",
    "    def forward(self, x):\n",
    "        x = F.relu(F.max_pool2d(self.conv1(x), 2))\n",
    "        x = F.relu(F.max_pool2d(self.conv2_drop(self.conv2(x)), 2))\n",
    "        x = x.view(x.size(0), -1)\n",
    "        x = F.relu(self.fc1(x))\n",
    "        x = F.dropout(x, training=self.training)\n",
    "        x = F.relu(self.fc2(x))\n",
    "        x = F.dropout(x,training=self.training)\n",
    "        x = self.fc3(x)\n",
    "        return F.log_softmax(x,dim=1)"
   ]
  },
  {
   "cell_type": "code",
   "execution_count": 35,
   "metadata": {},
   "outputs": [],
   "source": [
    "model = Net()\n",
    "optimizer = optim.SGD(model.parameters(),lr=0.01,momentum=0.5)"
   ]
  },
  {
   "cell_type": "code",
   "execution_count": 36,
   "metadata": {},
   "outputs": [],
   "source": [
    "def fit(epoch,model,data_loader,phase='training',volatile=False):\n",
    "    if phase == 'training':\n",
    "        model.train()\n",
    "    if phase == 'validation':\n",
    "        model.eval()\n",
    "        volatile=True\n",
    "    running_loss = 0.0\n",
    "    running_correct = 0\n",
    "    for batch_idx , (data,target) in enumerate(data_loader):\n",
    "#         if is_cuda:\n",
    "#             data,target = data.cuda(),target.cuda()\n",
    "        data , target = Variable(data,volatile),Variable(target)\n",
    "        if phase == 'training':\n",
    "            optimizer.zero_grad()\n",
    "        output = model(data)\n",
    "        loss = F.nll_loss(output,target)\n",
    "        \n",
    "        running_loss += F.nll_loss(output,target,size_average=False).item()\n",
    "        preds = output.data.max(dim=1,keepdim=True)[1]\n",
    "        running_correct += preds.eq(target.data.view_as(preds)).cpu().sum()\n",
    "        if phase == 'training':\n",
    "            loss.backward()\n",
    "            optimizer.step()\n",
    "    \n",
    "    loss = running_loss/len(data_loader.dataset)\n",
    "    accuracy = 100. * running_correct/len(data_loader.dataset)\n",
    "    \n",
    "    print(f'{phase} loss is {loss:{5}.{2}} and {phase} accuracy is {running_correct}/{len(data_loader.dataset)}{accuracy:{10}.{4}}')\n",
    "    return loss,accuracy"
   ]
  },
  {
   "cell_type": "code",
   "execution_count": 37,
   "metadata": {},
   "outputs": [
    {
     "name": "stdout",
     "output_type": "stream",
     "text": [
      "training loss is   2.3 and training accuracy is 14/147     9.524\n",
      "validation loss is   2.3 and validation accuracy is 7/72     9.722\n",
      "training loss is   2.3 and training accuracy is 20/147     13.61\n",
      "validation loss is   2.3 and validation accuracy is 11/72     15.28\n",
      "training loss is   2.3 and training accuracy is 23/147     15.65\n",
      "validation loss is   2.3 and validation accuracy is 10/72     13.89\n",
      "training loss is   2.3 and training accuracy is 21/147     14.29\n",
      "validation loss is   2.2 and validation accuracy is 13/72     18.06\n",
      "training loss is   2.3 and training accuracy is 25/147     17.01\n",
      "validation loss is   2.2 and validation accuracy is 14/72     19.44\n",
      "training loss is   2.2 and training accuracy is 27/147     18.37\n",
      "validation loss is   2.2 and validation accuracy is 17/72     23.61\n",
      "training loss is   2.1 and training accuracy is 35/147     23.81\n",
      "validation loss is   2.0 and validation accuracy is 25/72     34.72\n",
      "training loss is   2.1 and training accuracy is 49/147     33.33\n",
      "validation loss is   1.8 and validation accuracy is 24/72     33.33\n",
      "training loss is   1.8 and training accuracy is 55/147     37.41\n",
      "validation loss is   1.5 and validation accuracy is 39/72     54.17\n",
      "training loss is   1.7 and training accuracy is 61/147      41.5\n",
      "validation loss is   1.3 and validation accuracy is 44/72     61.11\n",
      "training loss is   1.4 and training accuracy is 72/147     48.98\n",
      "validation loss is   1.2 and validation accuracy is 49/72     68.06\n",
      "training loss is   1.3 and training accuracy is 90/147     61.22\n",
      "validation loss is  0.72 and validation accuracy is 56/72     77.78\n",
      "training loss is   1.0 and training accuracy is 96/147     65.31\n",
      "validation loss is  0.88 and validation accuracy is 51/72     70.83\n",
      "training loss is   1.0 and training accuracy is 98/147     66.67\n",
      "validation loss is  0.72 and validation accuracy is 56/72     77.78\n",
      "training loss is   0.9 and training accuracy is 104/147     70.75\n",
      "validation loss is  0.69 and validation accuracy is 57/72     79.17\n",
      "training loss is  0.76 and training accuracy is 113/147     76.87\n",
      "validation loss is   0.7 and validation accuracy is 52/72     72.22\n",
      "training loss is  0.88 and training accuracy is 111/147     75.51\n",
      "validation loss is  0.89 and validation accuracy is 49/72     68.06\n",
      "training loss is   0.8 and training accuracy is 109/147     74.15\n",
      "validation loss is  0.81 and validation accuracy is 54/72      75.0\n",
      "training loss is  0.65 and training accuracy is 116/147     78.91\n",
      "validation loss is  0.64 and validation accuracy is 57/72     79.17\n",
      "training loss is  0.71 and training accuracy is 118/147     80.27\n",
      "validation loss is  0.71 and validation accuracy is 59/72     81.94\n",
      "training loss is  0.59 and training accuracy is 124/147     84.35\n",
      "validation loss is  0.66 and validation accuracy is 59/72     81.94\n",
      "training loss is  0.48 and training accuracy is 123/147     83.67\n",
      "validation loss is  0.64 and validation accuracy is 59/72     81.94\n",
      "training loss is  0.47 and training accuracy is 122/147     82.99\n",
      "validation loss is  0.77 and validation accuracy is 56/72     77.78\n",
      "training loss is  0.51 and training accuracy is 128/147     87.07\n",
      "validation loss is  0.81 and validation accuracy is 52/72     72.22\n",
      "training loss is  0.53 and training accuracy is 127/147     86.39\n",
      "validation loss is  0.69 and validation accuracy is 59/72     81.94\n",
      "training loss is  0.21 and training accuracy is 140/147     95.24\n",
      "validation loss is  0.84 and validation accuracy is 62/72     86.11\n",
      "training loss is   0.4 and training accuracy is 133/147     90.48\n",
      "validation loss is  0.62 and validation accuracy is 60/72     83.33\n",
      "training loss is  0.22 and training accuracy is 138/147     93.88\n",
      "validation loss is  0.61 and validation accuracy is 61/72     84.72\n",
      "training loss is  0.19 and training accuracy is 136/147     92.52\n",
      "validation loss is  0.75 and validation accuracy is 59/72     81.94\n"
     ]
    }
   ],
   "source": [
    "train_losses , train_accuracy = [],[]\n",
    "val_losses , val_accuracy = [],[]\n",
    "for epoch in range(1,30):\n",
    "    epoch_loss, epoch_accuracy = fit(epoch,model,train_data_loader,phase='training')\n",
    "    val_epoch_loss , val_epoch_accuracy = fit(epoch,model,valid_data_loader,phase='validation')\n",
    "    train_losses.append(epoch_loss)\n",
    "    train_accuracy.append(epoch_accuracy)\n",
    "    val_losses.append(val_epoch_loss)\n",
    "    val_accuracy.append(val_epoch_accuracy)"
   ]
  },
  {
   "cell_type": "code",
   "execution_count": 38,
   "metadata": {},
   "outputs": [
    {
     "data": {
      "text/plain": [
       "<matplotlib.legend.Legend at 0x138d96b9c08>"
      ]
     },
     "execution_count": 38,
     "metadata": {},
     "output_type": "execute_result"
    },
    {
     "data": {
      "image/png": "[encoded data removed]",
      "text/plain": [
       "<Figure size 432x288 with 1 Axes>"
      ]
     },
     "metadata": {
      "needs_background": "light"
     },
     "output_type": "display_data"
    }
   ],
   "source": [
    "plt.plot(range(1,len(train_losses)+1),train_losses,'bo',label = 'training loss')\n",
    "plt.plot(range(1,len(val_losses)+1),val_losses,'r',label = 'validation loss')\n",
    "plt.legend()"
   ]
  },
  {
   "cell_type": "code",
   "execution_count": 39,
   "metadata": {},
   "outputs": [
    {
     "data": {
      "text/plain": [
       "<matplotlib.legend.Legend at 0x138d98aa448>"
      ]
     },
     "execution_count": 39,
     "metadata": {},
     "output_type": "execute_result"
    },
    {
     "data": {
      "image/png": "[encoded data removed]",
      "text/plain": [
       "<Figure size 432x288 with 1 Axes>"
      ]
     },
     "metadata": {
      "needs_background": "light"
     },
     "output_type": "display_data"
    }
   ],
   "source": [
    "plt.plot(range(1,len(train_accuracy)+1),train_accuracy,'bo',label = 'train accuracy')\n",
    "plt.plot(range(1,len(val_accuracy)+1),val_accuracy,'r',label = 'val accuracy')\n",
    "plt.legend()"
   ]
  },
  {
   "cell_type": "code",
   "execution_count": null,
   "metadata": {},
   "outputs": [],
   "source": []
  },
  {
   "cell_type": "code",
   "execution_count": null,
   "metadata": {},
   "outputs": [],
   "source": []
  }
 ],
 "metadata": {
  "kernelspec": {
   "display_name": "Python 3",
   "language": "python",
   "name": "python3"
  },
  "language_info": {
   "codemirror_mode": {
    "name": "ipython",
    "version": 3
   },
   "file_extension": ".py",
   "mimetype": "text/x-python",
   "name": "python",
   "nbconvert_exporter": "python",
   "pygments_lexer": "ipython3",
   "version": "3.7.4"
  }
 },
 "nbformat": 4,
 "nbformat_minor": 2
}
