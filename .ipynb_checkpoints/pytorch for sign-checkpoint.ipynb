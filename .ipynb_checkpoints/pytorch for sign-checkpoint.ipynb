{
 "cells": [
  {
   "cell_type": "code",
   "execution_count": 1,
   "metadata": {},
   "outputs": [],
   "source": [
    "#pytorch\n",
    "\n",
    "from glob import glob\n",
    "import os\n",
    "import numpy as np\n",
    "import matplotlib.pyplot as plt\n",
    "import shutil\n",
    "from torchvision import transforms\n",
    "from torchvision import models\n",
    "import torch\n",
    "from torch.autograd import Variable\n",
    "import torch.nn as nn\n",
    "import torch.nn.functional as F\n",
    "from torch.optim import lr_scheduler\n",
    "from torch import optim\n",
    "from torchvision.datasets import ImageFolder\n",
    "from torchvision.utils import make_grid\n",
    "from torch.utils.data import Dataset,DataLoader\n",
    "import time\n",
    "%matplotlib inline"
   ]
  },
  {
   "cell_type": "code",
   "execution_count": 2,
   "metadata": {},
   "outputs": [],
   "source": [
    "path = \"C:\\\\Users\\\\yexue\\\\Gesture-Recognition-based-on-IMU\\\\data\\\\figs_0\\\\\""
   ]
  },
  {
   "cell_type": "code",
   "execution_count": 5,
   "metadata": {},
   "outputs": [],
   "source": [
    "train_path=os.path.join(path,\"train\")\n",
    "valid_path=os.path.join(path,'valid')"
   ]
  },
  {
   "cell_type": "code",
   "execution_count": 84,
   "metadata": {},
   "outputs": [],
   "source": [
    "simple_transform = transforms.Compose([transforms.Resize((224,224))\n",
    "                                       ,transforms.ToTensor()\n",
    "                                       ,transforms.Normalize([0.485, 0.456, 0.406], [0.229, 0.224, 0.225])])\n",
    "\n",
    "# simple_transform = transforms.Compose([transforms.Resize(224)\n",
    "#                                        ,transforms.ToTensor()\n",
    "#                                        ,transforms.Normalize([0.485, 0.456, 0.406], [0.229, 0.224, 0.225])])\n",
    "\n",
    "train = ImageFolder(train_path,simple_transform)\n",
    "valid = ImageFolder(valid_path,simple_transform)"
   ]
  },
  {
   "cell_type": "code",
   "execution_count": 85,
   "metadata": {},
   "outputs": [],
   "source": [
    "train_data_loader = torch.utils.data.DataLoader(train,batch_size=5,shuffle=True)\n",
    "valid_data_loader = torch.utils.data.DataLoader(valid,batch_size=5,shuffle=True)"
   ]
  },
  {
   "cell_type": "code",
   "execution_count": 96,
   "metadata": {},
   "outputs": [],
   "source": [
    "class Net(nn.Module):\n",
    "    def __init__(self):\n",
    "        super().__init__()\n",
    "        self.conv1 = nn.Conv2d(3, 10, kernel_size=5)\n",
    "        self.conv2 = nn.Conv2d(10, 20, kernel_size=5)\n",
    "        self.conv2_drop = nn.Dropout2d()\n",
    "        self.fc1 = nn.Linear(56180, 500)\n",
    "        self.fc2 = nn.Linear(500,50)\n",
    "        self.fc3 = nn.Linear(50, 10)\n",
    "\n",
    "    def forward(self, x):\n",
    "        x = F.relu(F.max_pool2d(self.conv1(x), 2))\n",
    "        x = F.relu(F.max_pool2d(self.conv2_drop(self.conv2(x)), 2))\n",
    "        x = x.view(x.size(0), -1)\n",
    "        x = F.relu(self.fc1(x))\n",
    "        x = F.dropout(x, training=self.training)\n",
    "        x = F.relu(self.fc2(x))\n",
    "        x = F.dropout(x,training=self.training)\n",
    "        x = self.fc3(x)\n",
    "        return F.log_softmax(x,dim=1)"
   ]
  },
  {
   "cell_type": "code",
   "execution_count": 97,
   "metadata": {},
   "outputs": [],
   "source": [
    "model = Net()\n",
    "optimizer = optim.SGD(model.parameters(),lr=0.01,momentum=0.5)"
   ]
  },
  {
   "cell_type": "code",
   "execution_count": 98,
   "metadata": {},
   "outputs": [],
   "source": [
    "def fit(epoch,model,data_loader,phase='training',volatile=False):\n",
    "    if phase == 'training':\n",
    "        model.train()\n",
    "    if phase == 'validation':\n",
    "        model.eval()\n",
    "        volatile=True\n",
    "    running_loss = 0.0\n",
    "    running_correct = 0\n",
    "    for batch_idx , (data,target) in enumerate(data_loader):\n",
    "#         if is_cuda:\n",
    "#             data,target = data.cuda(),target.cuda()\n",
    "        data , target = Variable(data,volatile),Variable(target)\n",
    "        if phase == 'training':\n",
    "            optimizer.zero_grad()\n",
    "        output = model(data)\n",
    "        loss = F.nll_loss(output,target)\n",
    "        \n",
    "        running_loss += F.nll_loss(output,target,size_average=False).item()\n",
    "        preds = output.data.max(dim=1,keepdim=True)[1]\n",
    "        running_correct += preds.eq(target.data.view_as(preds)).cpu().sum()\n",
    "        if phase == 'training':\n",
    "            loss.backward()\n",
    "            optimizer.step()\n",
    "    \n",
    "    loss = running_loss/len(data_loader.dataset)\n",
    "    accuracy = 100. * running_correct/len(data_loader.dataset)\n",
    "    \n",
    "    print(f'{phase} loss is {loss:{5}.{2}} and {phase} accuracy is {running_correct}/{len(data_loader.dataset)}{accuracy:{10}.{4}}')\n",
    "    return loss,accuracy"
   ]
  },
  {
   "cell_type": "code",
   "execution_count": 99,
   "metadata": {},
   "outputs": [
    {
     "name": "stdout",
     "output_type": "stream",
     "text": [
      "training loss is   2.3 and training accuracy is 16/149     10.74\n",
      "validation loss is   2.3 and validation accuracy is 8/70     11.43\n",
      "training loss is   2.3 and training accuracy is 20/149     13.42\n",
      "validation loss is   2.3 and validation accuracy is 9/70     12.86\n",
      "training loss is   2.3 and training accuracy is 24/149     16.11\n",
      "validation loss is   2.2 and validation accuracy is 14/70      20.0\n",
      "training loss is   2.2 and training accuracy is 33/149     22.15\n",
      "validation loss is   2.1 and validation accuracy is 23/70     32.86\n",
      "training loss is   2.0 and training accuracy is 52/149      34.9\n",
      "validation loss is   1.8 and validation accuracy is 40/70     57.14\n",
      "training loss is   1.8 and training accuracy is 66/149      44.3\n",
      "validation loss is   1.3 and validation accuracy is 43/70     61.43\n",
      "training loss is   1.4 and training accuracy is 73/149     48.99\n",
      "validation loss is   1.2 and validation accuracy is 41/70     58.57\n",
      "training loss is   1.2 and training accuracy is 89/149     59.73\n",
      "validation loss is  0.99 and validation accuracy is 45/70     64.29\n",
      "training loss is   1.0 and training accuracy is 96/149     64.43\n",
      "validation loss is  0.86 and validation accuracy is 44/70     62.86\n",
      "training loss is  0.93 and training accuracy is 91/149     61.07\n",
      "validation loss is  0.88 and validation accuracy is 52/70     74.29\n",
      "training loss is  0.79 and training accuracy is 109/149     73.15\n",
      "validation loss is   1.2 and validation accuracy is 43/70     61.43\n",
      "training loss is  0.65 and training accuracy is 111/149      74.5\n",
      "validation loss is  0.76 and validation accuracy is 56/70      80.0\n",
      "training loss is  0.61 and training accuracy is 122/149     81.88\n",
      "validation loss is  0.88 and validation accuracy is 52/70     74.29\n",
      "training loss is  0.64 and training accuracy is 114/149     76.51\n",
      "validation loss is  0.77 and validation accuracy is 50/70     71.43\n",
      "training loss is  0.54 and training accuracy is 124/149     83.22\n",
      "validation loss is  0.91 and validation accuracy is 47/70     67.14\n",
      "training loss is  0.49 and training accuracy is 126/149     84.56\n",
      "validation loss is  0.81 and validation accuracy is 53/70     75.71\n",
      "training loss is  0.58 and training accuracy is 123/149     82.55\n",
      "validation loss is   1.1 and validation accuracy is 51/70     72.86\n",
      "training loss is  0.57 and training accuracy is 124/149     83.22\n",
      "validation loss is  0.87 and validation accuracy is 57/70     81.43\n",
      "training loss is   0.6 and training accuracy is 130/149     87.25\n",
      "validation loss is  0.76 and validation accuracy is 55/70     78.57\n",
      "training loss is  0.41 and training accuracy is 129/149     86.58\n",
      "validation loss is  0.62 and validation accuracy is 56/70      80.0\n",
      "training loss is  0.45 and training accuracy is 129/149     86.58\n",
      "validation loss is  0.69 and validation accuracy is 55/70     78.57\n",
      "training loss is  0.32 and training accuracy is 134/149     89.93\n",
      "validation loss is  0.69 and validation accuracy is 56/70      80.0\n",
      "training loss is  0.33 and training accuracy is 134/149     89.93\n",
      "validation loss is  0.83 and validation accuracy is 57/70     81.43\n",
      "training loss is  0.21 and training accuracy is 140/149     93.96\n",
      "validation loss is  0.89 and validation accuracy is 58/70     82.86\n",
      "training loss is  0.18 and training accuracy is 137/149     91.95\n",
      "validation loss is   1.1 and validation accuracy is 56/70      80.0\n",
      "training loss is  0.22 and training accuracy is 138/149     92.62\n",
      "validation loss is  0.86 and validation accuracy is 55/70     78.57\n",
      "training loss is  0.19 and training accuracy is 143/149     95.97\n",
      "validation loss is  0.81 and validation accuracy is 57/70     81.43\n",
      "training loss is  0.18 and training accuracy is 144/149     96.64\n",
      "validation loss is  0.88 and validation accuracy is 56/70      80.0\n",
      "training loss is  0.19 and training accuracy is 140/149     93.96\n",
      "validation loss is  0.65 and validation accuracy is 59/70     84.29\n"
     ]
    }
   ],
   "source": [
    "train_losses , train_accuracy = [],[]\n",
    "val_losses , val_accuracy = [],[]\n",
    "for epoch in range(1,30):\n",
    "    epoch_loss, epoch_accuracy = fit(epoch,model,train_data_loader,phase='training')\n",
    "    val_epoch_loss , val_epoch_accuracy = fit(epoch,model,valid_data_loader,phase='validation')\n",
    "    train_losses.append(epoch_loss)\n",
    "    train_accuracy.append(epoch_accuracy)\n",
    "    val_losses.append(val_epoch_loss)\n",
    "    val_accuracy.append(val_epoch_accuracy)"
   ]
  },
  {
   "cell_type": "code",
   "execution_count": 100,
   "metadata": {},
   "outputs": [
    {
     "data": {
      "text/plain": [
       "<matplotlib.legend.Legend at 0x16d0941abc8>"
      ]
     },
     "execution_count": 100,
     "metadata": {},
     "output_type": "execute_result"
    },
    {
     "data": {
      "image/png": "[encoded data removed]",
      "text/plain": [
       "<Figure size 432x288 with 1 Axes>"
      ]
     },
     "metadata": {
      "needs_background": "light"
     },
     "output_type": "display_data"
    }
   ],
   "source": [
    "plt.plot(range(1,len(train_losses)+1),train_losses,'bo',label = 'training loss')\n",
    "plt.plot(range(1,len(val_losses)+1),val_losses,'r',label = 'validation loss')\n",
    "plt.legend()"
   ]
  },
  {
   "cell_type": "code",
   "execution_count": 101,
   "metadata": {},
   "outputs": [
    {
     "data": {
      "text/plain": [
       "<matplotlib.legend.Legend at 0x16d00601a48>"
      ]
     },
     "execution_count": 101,
     "metadata": {},
     "output_type": "execute_result"
    },
    {
     "data": {
      "image/png": "[encoded data removed]",
      "text/plain": [
       "<Figure size 432x288 with 1 Axes>"
      ]
     },
     "metadata": {
      "needs_background": "light"
     },
     "output_type": "display_data"
    }
   ],
   "source": [
    "plt.plot(range(1,len(train_accuracy)+1),train_accuracy,'bo',label = 'train accuracy')\n",
    "plt.plot(range(1,len(val_accuracy)+1),val_accuracy,'r',label = 'val accuracy')\n",
    "plt.legend()"
   ]
  },
  {
   "cell_type": "code",
   "execution_count": null,
   "metadata": {},
   "outputs": [],
   "source": []
  }
 ],
 "metadata": {
  "kernelspec": {
   "display_name": "Python 3",
   "language": "python",
   "name": "python3"
  },
  "language_info": {
   "codemirror_mode": {
    "name": "ipython",
    "version": 3
   },
   "file_extension": ".py",
   "mimetype": "text/x-python",
   "name": "python",
   "nbconvert_exporter": "python",
   "pygments_lexer": "ipython3",
   "version": "3.7.4"
  }
 },
 "nbformat": 4,
 "nbformat_minor": 2
}
